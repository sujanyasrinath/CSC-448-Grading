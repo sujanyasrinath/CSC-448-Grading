{
 "cells": [
  {
   "cell_type": "markdown",
   "metadata": {
    "slideshow": {
     "slide_type": "slide"
    }
   },
   "source": [
    "# Topic 8 - Was T. Rex just a big chicken?\n",
    "## Computational Proteomics"
   ]
  },
  {
   "cell_type": "code",
   "execution_count": 2,
   "metadata": {
    "slideshow": {
     "slide_type": "skip"
    }
   },
   "outputs": [
    {
     "name": "stdout",
     "output_type": "stream",
     "text": [
      "The autoreload extension is already loaded. To reload it, use:\n",
      "  %reload_ext autoreload\n"
     ]
    }
   ],
   "source": [
    "%matplotlib inline\n",
    "%load_ext autoreload\n",
    "%autoreload 2\n",
    "\n",
    "    \n",
    "import pandas as pd\n",
    "import numpy as np\n",
    "from IPython.display import Image\n",
    "\n",
    "from pathlib import Path\n",
    "home = str(Path.home()) # all other paths are relative to this path. \n",
    "# This is not relevant to most people because I recommended you use my server, but\n",
    "# change home to where you are storing everything. Again. Not recommended."
   ]
  },
  {
   "cell_type": "code",
   "execution_count": 3,
   "metadata": {
    "slideshow": {
     "slide_type": "skip"
    }
   },
   "outputs": [],
   "source": [
    "import networkx as nx\n",
    "import pandas as pd\n",
    "import numpy as np\n",
    "import copy\n",
    "\n",
    "import matplotlib.pyplot as plt\n",
    "\n",
    "def draw(A):\n",
    "    return Image(A.draw(format='png', prog='dot'))\n",
    "\n",
    "def to_adj(T):\n",
    "    df = pd.DataFrame(nx.adjacency_matrix(T).todense(),index=T.nodes(),columns=T.nodes())\n",
    "    for i in range(len(df)):\n",
    "        for j in range(len(df)):\n",
    "            if df.iloc[i,j] == 1:\n",
    "                data = T.get_edge_data(df.index[i],df.columns[j])\n",
    "                df.iloc[i,j] = data['label']\n",
    "            else:\n",
    "                df.iloc[i,j] = \"\"\n",
    "    return df\n",
    "\n",
    "def show(G):\n",
    "    # same layout using matplotlib with no labels\n",
    "    pos = nx.drawing.nx_agraph.graphviz_layout(G, prog='neato')\n",
    "    #print(edge_labels)\n",
    "    # Modify node fillcolor and edge color.\n",
    "    #D.node_attr.update(color='blue', style='filled', fillcolor='yellow')\n",
    "    #D.edge_attr.update(color='blue', arrowsize=1)\n",
    "    A = nx.nx_agraph.to_agraph(G)\n",
    "    A.graph_attr[\"rankdir\"] = \"LR\"\n",
    "    # draw it in the notebook\n",
    "    display(draw(A))"
   ]
  },
  {
   "cell_type": "markdown",
   "metadata": {
    "slideshow": {
     "slide_type": "subslide"
    }
   },
   "source": [
    "## Learning Outcomes\n",
    "* Understand proteomics applications and data\n",
    "* Apply, analyze, and evaluate proteomics algorithms"
   ]
  },
  {
   "cell_type": "markdown",
   "metadata": {
    "slideshow": {
     "slide_type": "slide"
    }
   },
   "source": [
    "# Background\n",
    "\n",
    "## Paleontology meets computing (and statistics)\n",
    "Controversy ensues (make sure you note the names in the coming articles)...\n",
    "\n"
   ]
  },
  {
   "cell_type": "markdown",
   "metadata": {
    "slideshow": {
     "slide_type": "subslide"
    }
   },
   "source": [
    "* Protein sequencing was very difficult in 1950s but DNA sequencing was impossible\n",
    "* Today DNA sequencing is essentially trivial while protein sequencing remains difficult\n",
    "* Dinosaur drama (https://www.wired.com/2009/06/ff-originofspecies/)\n",
    "\n",
    "<img src=\"https://images-na.ssl-images-amazon.com/images/I/81ZfeGANs9L._AC_SL1500_.jpg\" width=400>"
   ]
  },
  {
   "cell_type": "markdown",
   "metadata": {
    "slideshow": {
     "slide_type": "subslide"
    }
   },
   "source": [
    "<img src=\"https://www.researchgate.net/profile/Jeovanis_Gil_Valdes2/publication/321347984/figure/fig2/AS:581671432593414@1515692684716/General-workflow-for-the-mass-spectrometry-based-proteomics-analysis-of-acetylated.png\">"
   ]
  },
  {
   "cell_type": "markdown",
   "metadata": {
    "slideshow": {
     "slide_type": "slide"
    }
   },
   "source": [
    "## Matching Ideal Spectra\n",
    "This first section of exercises will allow you to implement algorithms under ideal circumstances where masses are not lost and there is no \"noise\" mass.\n",
    "\n",
    "In reality... we have to deal with false and missing masses. One source of this misinformation is that when a mass spectrometer breaks a peptide, small parts of the resulting fragments may be lost, thus lowering their masses (location on the x axis). When breaking REDCA into RE, DCA, RE might lose a water molecule and DCA might lost an ammonia."
   ]
  },
  {
   "cell_type": "markdown",
   "metadata": {
    "slideshow": {
     "slide_type": "subslide"
    }
   },
   "source": [
    "**Exercise 1**: Spectrum graph construction\n",
    "\n",
    "We represent the masses in a spectrum as a sequence Spectrum of integers in increasing order. We define a labeled graph Graph(Spectrum) by forming a node for each element of ``spectrum``, then connecting nodes $s_i$ and $s_j$ by a directed edge labeled by an amino acid $a$ if $s_j−s_i$ is equal to the mass of $a$. We do not distinguish between amino acids having the same integer masses (i.e., the pairs K/Q and I/L). You'll need to add in a zero mass node at the beginning and the sum of all the masses as the last element.\n",
    "\n",
    "Input: A list of integers ``spectrum``.\n",
    "\n",
    "Output: A networkx graph that represents the graph described above."
   ]
  },
  {
   "cell_type": "markdown",
   "metadata": {
    "slideshow": {
     "slide_type": "subslide"
    }
   },
   "source": [
    "### OK... What?\n",
    "\n",
    "Let's break down what we know. We know the weights of amino acids"
   ]
  },
  {
   "cell_type": "code",
   "execution_count": 4,
   "metadata": {
    "slideshow": {
     "slide_type": "subslide"
    }
   },
   "outputs": [
    {
     "data": {
      "image/png": "[encoded data removed]",
      "text/plain": [
       "<Figure size 640x480 with 1 Axes>"
      ]
     },
     "metadata": {},
     "output_type": "display_data"
    }
   ],
   "source": [
    "a_mass = {\n",
    "    \"G\": 57,\n",
    "    \"A\": 71,\n",
    "    \"S\": 87,\n",
    "    \"P\": 97,\n",
    "    \"V\": 99,\n",
    "    \"T\": 101,\n",
    "    \"C\": 103,\n",
    "    \"I\": 113,\n",
    "    \"L\": 113,\n",
    "    \"N\": 114,\n",
    "    \"D\": 115,\n",
    "    \"K\": 128,\n",
    "    \"Q\": 128,\n",
    "    \"E\": 129,\n",
    "    \"M\": 131,\n",
    "    \"H\": 137,\n",
    "    \"F\": 147,\n",
    "    \"R\": 156,\n",
    "    \"Y\": 163,\n",
    "    \"W\": 186\n",
    "}\n",
    "import pandas as pd\n",
    "pd.Series(a_mass).plot.bar();"
   ]
  },
  {
   "cell_type": "markdown",
   "metadata": {
    "slideshow": {
     "slide_type": "subslide"
    }
   },
   "source": [
    "### We can put that information in a dictionaries that map amino acids to masses and masses to amino acids"
   ]
  },
  {
   "cell_type": "code",
   "execution_count": 5,
   "metadata": {
    "slideshow": {
     "slide_type": "fragment"
    }
   },
   "outputs": [
    {
     "data": {
      "text/plain": [
       "57        [G]\n",
       "71        [A]\n",
       "87        [S]\n",
       "97        [P]\n",
       "99        [V]\n",
       "101       [T]\n",
       "103       [C]\n",
       "113    [I, L]\n",
       "114       [N]\n",
       "115       [D]\n",
       "128    [K, Q]\n",
       "129       [E]\n",
       "131       [M]\n",
       "137       [H]\n",
       "147       [F]\n",
       "156       [R]\n",
       "163       [Y]\n",
       "186       [W]\n",
       "dtype: object"
      ]
     },
     "execution_count": 5,
     "metadata": {},
     "output_type": "execute_result"
    }
   ],
   "source": [
    "import networkx as nx\n",
    "\n",
    "mass_a = {}\n",
    "for key in a_mass.keys():\n",
    "    mass = a_mass[key]\n",
    "    if mass not in mass_a:\n",
    "        mass_a[mass] = []\n",
    "    mass_a[mass].append(key)\n",
    "    \n",
    "pd.Series(mass_a) # Just for printing"
   ]
  },
  {
   "cell_type": "markdown",
   "metadata": {
    "slideshow": {
     "slide_type": "subslide"
    }
   },
   "source": [
    "### What about a real spectrum?\n",
    "<img src=\"http://bioinformaticsalgorithms.com/images/Proteomics/dinosaur_spectrum_unannotated.png\">"
   ]
  },
  {
   "cell_type": "markdown",
   "metadata": {
    "slideshow": {
     "slide_type": "subslide"
    }
   },
   "source": [
    "### You could take a look at a spectrum in a very simplified manner"
   ]
  },
  {
   "cell_type": "code",
   "execution_count": 6,
   "metadata": {
    "slideshow": {
     "slide_type": "subslide"
    }
   },
   "outputs": [
    {
     "data": {
      "image/png": "[encoded data removed]",
      "text/plain": [
       "<Figure size 640x480 with 1 Axes>"
      ]
     },
     "metadata": {},
     "output_type": "display_data"
    }
   ],
   "source": [
    "spectrum1 = [57,71,154,185,301,332,415,429,486]\n",
    "pd.Series(1+0*np.array(spectrum1),index=spectrum1).plot.bar();"
   ]
  },
  {
   "cell_type": "code",
   "execution_count": 39,
   "metadata": {
    "slideshow": {
     "slide_type": "subslide"
    }
   },
   "outputs": [
    {
     "data": {
      "image/png": "[encoded data removed]",
      "text/plain": [
       "<IPython.core.display.Image object>"
      ]
     },
     "metadata": {},
     "output_type": "display_data"
    }
   ],
   "source": [
    "def spectrum_graph_construction(spectrum, mass_a=mass_a):\n",
    "    spectrum = copy.copy(spectrum)\n",
    "    spectrum.insert(0, 0)\n",
    "    G = nx.DiGraph()\n",
    "    \n",
    "    for i, s in enumerate(spectrum):  # i is the index, s is the value\n",
    "        G.add_node(s)\n",
    "        for mass, amino_acids in mass_a.items():\n",
    "            #print(amino_acids)\n",
    "            for source_mass in spectrum[:i]:\n",
    "                mass_diff = s - source_mass\n",
    "                if mass_diff == mass:\n",
    "                    matching_amino_acids = \"/\".join(amino_acids)\n",
    "                    G.add_edge(source_mass, s, label=matching_amino_acids)\n",
    "    \n",
    "    return G\n",
    "\n",
    "\n",
    "\n",
    "spectrum1 = [57,71,154,185,301,332,415,429,486]\n",
    "graph1 = spectrum_graph_construction(spectrum1)\n",
    "\n",
    "show(graph1)"
   ]
  },
  {
   "cell_type": "markdown",
   "metadata": {
    "slideshow": {
     "slide_type": "subslide"
    }
   },
   "source": [
    "**Exercise 2**: Ideal spectrum\n",
    "\n",
    "Input: A ``peptide``\n",
    "\n",
    "Output: A list that represents the masses of the ideal spectrum"
   ]
  },
  {
   "cell_type": "code",
   "execution_count": 50,
   "metadata": {
    "slideshow": {
     "slide_type": "subslide"
    }
   },
   "outputs": [
    {
     "name": "stdout",
     "output_type": "stream",
     "text": [
      "Spectrum for GPG\n",
      "[0, 57, 57, 154, 154, 211]\n",
      "Fragments for REDCA\n",
      "['R', 'EDCA', 'RE', 'DCA', 'RED', 'CA', 'REDC', 'A']\n",
      "Spectrum for REDCA\n",
      "[0, 71, 156, 174, 285, 289, 400, 418, 503, 574]\n"
     ]
    }
   ],
   "source": [
    "# fragments is for debugging purposes\n",
    "def ideal_spectrum(peptide, a_mass=a_mass, prefix=True, suffix=True, fragments=None):\n",
    "    if fragments is None:\n",
    "        fragments = []\n",
    "    \n",
    "    ideal = [0]\n",
    "    \n",
    "    # Calculate the masses of prefix and suffix peptides\n",
    "    peptide_mass = 0\n",
    "    for amino_acid in peptide:\n",
    "        peptide_mass += a_mass[amino_acid]\n",
    "    \n",
    "    if prefix:\n",
    "        for i in range(1, len(peptide)):\n",
    "            prefix_mass = 0\n",
    "            for j in range(i):\n",
    "                prefix_mass += a_mass[peptide[j]]\n",
    "            ideal.append(prefix_mass)\n",
    "    \n",
    "    if suffix:\n",
    "        for i in range(1, len(peptide)):\n",
    "            suffix_mass = 0\n",
    "            for j in range(i, len(peptide)):\n",
    "                suffix_mass += a_mass[peptide[j]]\n",
    "            ideal.append(suffix_mass)\n",
    "    \n",
    "    ideal.append(peptide_mass)\n",
    "    \n",
    "    \n",
    "    # For debugging, collect fragments\n",
    "    if fragments is not None:\n",
    "        for i in range(1,len(peptide)):\n",
    "            if prefix:\n",
    "                fragments.append(peptide[:i])\n",
    "            if suffix:\n",
    "                fragments.append(peptide[i:])\n",
    "    ideal.sort()\n",
    "    return ideal\n",
    "\n",
    "peptide1 = \"GPG\"\n",
    "spectrum2 = ideal_spectrum(peptide1)\n",
    "fragments = []\n",
    "spectrum3 = ideal_spectrum(\"REDCA\",fragments=fragments)\n",
    "\n",
    "print(f\"Spectrum for {peptide1}\")\n",
    "print(spectrum2)\n",
    "print(f\"Fragments for REDCA\")\n",
    "print(fragments)\n",
    "print(f\"Spectrum for REDCA\")\n",
    "print(spectrum3)"
   ]
  },
  {
   "cell_type": "code",
   "execution_count": 51,
   "metadata": {},
   "outputs": [
    {
     "name": "stdout",
     "output_type": "stream",
     "text": [
      "[0, 57, 57, 114, 128, 215, 229, 316, 330, 387, 387, 444]\n",
      "['G', 'ASDGG', 'GA', 'SDGG', 'GAS', 'DGG', 'GASD', 'GG', 'GASDG', 'G']\n"
     ]
    }
   ],
   "source": [
    "fragments=[]\n",
    "print(ideal_spectrum('GASDGG',fragments=fragments))\n",
    "print(fragments)"
   ]
  },
  {
   "cell_type": "markdown",
   "metadata": {
    "slideshow": {
     "slide_type": "subslide"
    }
   },
   "source": [
    "**Exercise 3**: Decoding the ideal spectrum\n",
    "\n",
    "Input: A ``spectrum``\n",
    "\n",
    "Output: All matching strings representing the peptide that corresponds to a path from *source* to *sink* in Graph(spectrum) whose ideal spectrum is equal to ``spectrum``."
   ]
  },
  {
   "cell_type": "code",
   "execution_count": 52,
   "metadata": {},
   "outputs": [
    {
     "data": {
      "text/plain": [
       "[0, 114, 114, 215, 229, 330, 330, 444]"
      ]
     },
     "execution_count": 52,
     "metadata": {},
     "output_type": "execute_result"
    }
   ],
   "source": [
    "ideal_spectrum('NTDN')"
   ]
  },
  {
   "cell_type": "code",
   "execution_count": 88,
   "metadata": {
    "slideshow": {
     "slide_type": "subslide"
    }
   },
   "outputs": [
    {
     "data": {
      "image/png": "[encoded data removed]",
      "text/plain": [
       "<IPython.core.display.Image object>"
      ]
     },
     "metadata": {},
     "output_type": "display_data"
    },
    {
     "name": "stdout",
     "output_type": "stream",
     "text": [
      "[]\n"
     ]
    }
   ],
   "source": [
    "import numpy as np\n",
    "\n",
    "def decoding_ideal_spectrum(spectrum,a_mass=a_mass,debug=False):\n",
    "    mass_a = {}\n",
    "    for key in a_mass.keys():\n",
    "        mass = a_mass[key]\n",
    "        if mass not in mass_a:\n",
    "            mass_a[mass] = []\n",
    "        mass_a[mass].append(key)\n",
    "    G = spectrum_graph_construction(spectrum,mass_a=mass_a)\n",
    "    if debug:\n",
    "        show(G)\n",
    "    # Your solution here\n",
    "    matches = []\n",
    "    return matches\n",
    "\n",
    "spectrum5 = [57,114,128,215,229,316,330,387,444]\n",
    "peptides5 = decoding_ideal_spectrum(spectrum5,debug=True)\n",
    "\n",
    "print(peptides5)\n"
   ]
  },
  {
   "cell_type": "markdown",
   "metadata": {
    "slideshow": {
     "slide_type": "subslide"
    }
   },
   "source": [
    "### Again... What?\n",
    "\n",
    "Take one of the solutions and take a look at how much it weights."
   ]
  },
  {
   "cell_type": "code",
   "execution_count": 68,
   "metadata": {
    "slideshow": {
     "slide_type": "fragment"
    }
   },
   "outputs": [
    {
     "data": {
      "text/plain": [
       "444"
      ]
     },
     "execution_count": 68,
     "metadata": {},
     "output_type": "execute_result"
    }
   ],
   "source": [
    "s=0\n",
    "for c in 'GGTTQ':\n",
    "    s += a_mass[c]\n",
    "s"
   ]
  },
  {
   "cell_type": "markdown",
   "metadata": {
    "slideshow": {
     "slide_type": "subslide"
    }
   },
   "source": [
    "### But does it match the spectrum?\n",
    "\n",
    "<pre>\n",
    "spectrum5 = [57,114,128,215,229,316,330,387,444]</pre>"
   ]
  },
  {
   "cell_type": "code",
   "execution_count": 69,
   "metadata": {
    "slideshow": {
     "slide_type": "fragment"
    }
   },
   "outputs": [
    {
     "data": {
      "text/plain": [
       "[0, 57, 114, 128, 215, 229, 316, 330, 387, 444]"
      ]
     },
     "execution_count": 69,
     "metadata": {},
     "output_type": "execute_result"
    }
   ],
   "source": [
    "ideal_spectrum(\"GGTTQ\")"
   ]
  },
  {
   "cell_type": "markdown",
   "metadata": {},
   "source": [
    "## From Ideal to Real Spectra"
   ]
  },
  {
   "cell_type": "markdown",
   "metadata": {},
   "source": [
    "**Exercise 4**: Convert a peptide into a binary peptide vector.\n",
    "\n",
    "Input: A peptide P.\n",
    "\n",
    "Output: The peptide vector of P as a numpy array."
   ]
  },
  {
   "cell_type": "code",
   "execution_count": 73,
   "metadata": {},
   "outputs": [
    {
     "name": "stdout",
     "output_type": "stream",
     "text": [
      "[0 0 0 0 0 0 0 0 0 0 0 0 0 0 0 0 0 0 0 0 0 0]\n"
     ]
    },
    {
     "data": {
      "text/plain": [
       "array([0, 0, 0, 0, 0, 0, 0, 0, 0, 0, 0, 0, 0, 0, 0, 0, 0, 0, 0, 0, 0, 0])"
      ]
     },
     "metadata": {},
     "output_type": "display_data"
    }
   ],
   "source": [
    "import numpy as np\n",
    "\n",
    "def construct_peptide_vector(peptide,a_mass={\"X\":4,\"Z\":5},verbose=False):\n",
    "    total_mass = sum([a_mass[c] for c in peptide])\n",
    "    vector = np.zeros((total_mass),dtype=int)\n",
    "    # Your solution here\n",
    "    return vector\n",
    "\n",
    "peptide_v1 = construct_peptide_vector(\"XZZXX\")\n",
    "\n",
    "print(peptide_v1)\n",
    "display(construct_peptide_vector(\"XZZXX\",verbose=True))"
   ]
  },
  {
   "cell_type": "markdown",
   "metadata": {},
   "source": [
    "**Exercise 5**: Convert a binary vector into a peptide (do the reverse).\n",
    "\n",
    "Input: A numpy binary vector ``p``.\n",
    "\n",
    "Output: A peptide whose binary peptide vector matches ``p``. For masses with more than one amino acid, any choice may be used."
   ]
  },
  {
   "cell_type": "code",
   "execution_count": 85,
   "metadata": {},
   "outputs": [
    {
     "data": {
      "text/plain": [
       "['XXXZ', 'XXXXZ', 'XXXXZ', 'XXXZ', 'XXXZ']"
      ]
     },
     "execution_count": 85,
     "metadata": {},
     "output_type": "execute_result"
    }
   ],
   "source": [
    "def construct_peptide_from_vector(p, a_mass={\"X\": 4, \"Z\": 5}):\n",
    "    peptides = []\n",
    "    current_peptide = \"\"\n",
    "    \n",
    "    for i in range(len(p)):\n",
    "        if p[i] == 0:\n",
    "            current_peptide += \"X\"\n",
    "        else:\n",
    "            current_peptide += \"Z\"\n",
    "            if i == len(p) - 1 or p[i + 1] == 0:\n",
    "                peptides.append(current_peptide)\n",
    "                current_peptide = \"\"\n",
    "    \n",
    "    return peptides\n",
    "\n",
    "p = np.array([0, 0, 0, 1, 0, 0, 0, 0, 1, 0, 0, 0, 0, 1, 0, 0, 0, 1, 0, 0, 0, 1])\n",
    "peptides6 = construct_peptide_from_vector(p)\n",
    "\n",
    "peptides6"
   ]
  },
  {
   "cell_type": "markdown",
   "metadata": {},
   "source": [
    "**Exercise 6:** Peptide Sequencing Problem\n",
    "\n",
    "Input: A spectral vector ``s``.\n",
    "\n",
    "Output: A peptide with maximum score against ``s``. For masses with more than one amino acid, any choice may be used."
   ]
  },
  {
   "cell_type": "code",
   "execution_count": 89,
   "metadata": {},
   "outputs": [
    {
     "name": "stdout",
     "output_type": "stream",
     "text": [
      "Score Matrix:\n",
      "[0, -inf, -inf, -inf, 4, -2, -inf, -inf, -3, 10, 3, -inf, -1, 11, 19, 6, -9, 11, 22, 20, 8, 12, 22]\n"
     ]
    },
    {
     "data": {
      "text/plain": [
       "'XZZXX'"
      ]
     },
     "execution_count": 89,
     "metadata": {},
     "output_type": "execute_result"
    }
   ],
   "source": [
    "def max_peptide(s, a_mass={\"X\": 4, \"Z\": 5}, debug=False):\n",
    "    n = len(s)\n",
    "    \n",
    "    # Initialize a score matrix with zeros\n",
    "    score_matrix = [0] * (n + 1)\n",
    "    peptide_matrix = [\"\" for _ in range(n + 1)]\n",
    "    \n",
    "    for i in range(1, n + 1):\n",
    "        max_score = float(\"-inf\")\n",
    "        max_peptide = \"\"\n",
    "        \n",
    "        # For each amino acid mass, calculate the score\n",
    "        for mass, aa in a_mass.items():\n",
    "            if i - aa >= 0:\n",
    "                score = score_matrix[i - aa] + s[i - 1]\n",
    "                if score > max_score:\n",
    "                    max_score = score\n",
    "                    max_peptide = peptide_matrix[i - aa] + mass\n",
    "        \n",
    "        # Update the score and peptide matrices\n",
    "        score_matrix[i] = max_score\n",
    "        peptide_matrix[i] = max_peptide\n",
    "    \n",
    "    # Trace back to find the peptide with the maximum score\n",
    "    max_peptide = peptide_matrix[n]\n",
    "    \n",
    "    if debug:\n",
    "        print(\"Score Matrix:\")\n",
    "        print(score_matrix)\n",
    "    \n",
    "    return max_peptide\n",
    "\n",
    "p2 = [0,0,0,4,-2,-3,-1,-7,6,5,3,2,1,9,3,-8,0,3,1,2,1,0]\n",
    "peptide7 = max_peptide(p2,debug=True)\n",
    "\n",
    "peptide7"
   ]
  },
  {
   "cell_type": "markdown",
   "metadata": {
    "slideshow": {
     "slide_type": "subslide"
    }
   },
   "source": [
    "### So again... what?\n",
    "\n",
    "The node labels mean something. The first integer is the mass. There is a transition between 9:6 and 13:1 because X is equal to 4 and so is 13-9. Why do we have a graph? Well. We want to score different options that are paths from this graph. How do we score? Once we have a path we can sum it up using the second integers from the nodes. So a path that went from 9:6 to 13:1 would get a score of ...+6+1+..."
   ]
  },
  {
   "cell_type": "code",
   "execution_count": null,
   "metadata": {},
   "outputs": [],
   "source": []
  }
 ],
 "metadata": {
  "celltoolbar": "Slideshow",
  "jupytext": {
   "encoding": "# -*- coding: utf-8 -*-",
   "formats": "ipynb,md,py"
  },
  "kernelspec": {
   "display_name": "Python 3",
   "language": "python",
   "name": "python3"
  },
  "language_info": {
   "codemirror_mode": {
    "name": "ipython",
    "version": 3
   },
   "file_extension": ".py",
   "mimetype": "text/x-python",
   "name": "python",
   "nbconvert_exporter": "python",
   "pygments_lexer": "ipython3",
   "version": "3.11.5"
  }
 },
 "nbformat": 4,
 "nbformat_minor": 4
}
